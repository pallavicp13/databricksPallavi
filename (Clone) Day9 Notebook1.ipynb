{
 "cells": [
  {
   "cell_type": "code",
   "execution_count": 0,
   "metadata": {
    "application/vnd.databricks.v1+cell": {
     "cellMetadata": {
      "byteLimit": 2012000,
      "rowLimit": 1000
     },
     "inputWidgets": {},
     "nuid": "2ab5bf22-4390-4c64-87e0-c756bd195390",
     "showTitle": false,
     "tableResultSettingsMap": {},
     "title": ""
    }
   },
   "outputs": [],
   "source": [
    "df = spark.read.option(\"header\", \"true\").csv(\"dbfs:/FileStore/weather_data_csv_pallavi.csv\")\n",
    "df.show(truncate=False)"
   ]
  },
  {
   "cell_type": "code",
   "execution_count": 0,
   "metadata": {
    "application/vnd.databricks.v1+cell": {
     "cellMetadata": {
      "byteLimit": 2048000,
      "rowLimit": 10000
     },
     "inputWidgets": {},
     "nuid": "62c81cef-bed2-445b-a4b1-2ec6db69f98c",
     "showTitle": false,
     "tableResultSettingsMap": {},
     "title": ""
    }
   },
   "outputs": [],
   "source": [
    "\n",
    "%python\n",
    "from pyspark.sql.functions import col, explode\n",
    "\n",
    "# Explode the arrays in the 'hourly' struct\n",
    "df_flattened = df.withColumn(\"temperature_2m\", explode(col(\"hourly.temperature_2m\"))) \\\n",
    "                 .withColumn(\"time\", explode(col(\"hourly.time\"))) \\\n",
    "                 .drop(\"hourly\") \\\n",
    "                 .drop(\"hourly_units\")  # Drop the unsupported struct column\n",
    "\n",
    "output_path = \"dbfs:/FileStore/weather_data_csv_pallavi.csv\"\n",
    "df_flattened.write.mode(\"overwrite\").option(\"header\", \"true\").csv(output_path)"
   ]
  },
  {
   "cell_type": "code",
   "execution_count": 0,
   "metadata": {
    "application/vnd.databricks.v1+cell": {
     "cellMetadata": {
      "byteLimit": 2048000,
      "rowLimit": 10000
     },
     "inputWidgets": {},
     "nuid": "8e127e7f-519d-45e4-9522-f6dab271b1ff",
     "showTitle": false,
     "tableResultSettingsMap": {},
     "title": ""
    }
   },
   "outputs": [],
   "source": [
    "df = spark.read.json(\"dbfs:/FileStore/weather_data_pallavi.json\")\n",
    "df.show()\n"
   ]
  },
  {
   "cell_type": "code",
   "execution_count": 0,
   "metadata": {
    "application/vnd.databricks.v1+cell": {
     "cellMetadata": {
      "byteLimit": 2048000,
      "rowLimit": 10000
     },
     "inputWidgets": {},
     "nuid": "cb92886c-9b51-45f2-abe4-16d34d4e0955",
     "showTitle": false,
     "tableResultSettingsMap": {},
     "title": ""
    }
   },
   "outputs": [],
   "source": [
    " dbutils.fs.cp(f\"file:{local_temp_path}\", dbfs_path)\n",
    "\n",
    "\n",
    "print(f\"Data successfully saved to {dbfs_path}\")"
   ]
  },
  {
   "cell_type": "code",
   "execution_count": 0,
   "metadata": {
    "application/vnd.databricks.v1+cell": {
     "cellMetadata": {
      "byteLimit": 2048000,
      "rowLimit": 10000
     },
     "inputWidgets": {},
     "nuid": "5995b771-be5c-4a4c-855c-a0e6d43567d9",
     "showTitle": false,
     "tableResultSettingsMap": {},
     "title": ""
    }
   },
   "outputs": [],
   "source": [
    "import requests\n",
    "import json\n",
    "import tempfile\n",
    "import shutil\n",
    "from pyspark.sql import SparkSession\n",
    "\n",
    "api_url = \"https://api.open-meteo.com/v1/forecast?latitude=51.5074&longitude=-0.1278&hourly=temperature_2m\"\n",
    "\n",
    "response = requests.get(api_url)\n",
    "if response.status_code == 200:\n",
    "\tdata = response.json()\n",
    "\tprint(\"Data fetched successfully!\")\n",
    "else:\n",
    "\tprint(f\"Error: Unable to fetch data (Status Code: {response.status_code})\")\n",
    "\n",
    "\n",
    "dbfs_path = \"dbfs:/FileStore/weather_data_pallavi.json\"\n",
    "local_temp_path = \"/tmp/weather_data.json\"\n",
    "with open(local_temp_path, \"w\") as temp_file:\n",
    "\tjson.dump(data, temp_file)\n",
    " \n",
    "\n"
   ]
  },
  {
   "cell_type": "code",
   "execution_count": 0,
   "metadata": {
    "application/vnd.databricks.v1+cell": {
     "cellMetadata": {},
     "inputWidgets": {},
     "nuid": "c0033045-2a9e-4e59-8003-cfad3f46b600",
     "showTitle": false,
     "tableResultSettingsMap": {},
     "title": ""
    }
   },
   "outputs": [],
   "source": []
  },
  {
   "cell_type": "code",
   "execution_count": 0,
   "metadata": {
    "application/vnd.databricks.v1+cell": {
     "cellMetadata": {
      "byteLimit": 2048000,
      "rowLimit": 10000
     },
     "inputWidgets": {},
     "nuid": "063f697a-9a65-4799-bed0-24d6bd0c2f0f",
     "showTitle": false,
     "tableResultSettingsMap": {},
     "title": ""
    }
   },
   "outputs": [],
   "source": [
    "%restart_python\n"
   ]
  },
  {
   "cell_type": "code",
   "execution_count": 0,
   "metadata": {
    "application/vnd.databricks.v1+cell": {
     "cellMetadata": {
      "byteLimit": 2048000,
      "rowLimit": 10000
     },
     "inputWidgets": {},
     "nuid": "11b84938-4a4e-4a72-8ed4-9ec993613f9d",
     "showTitle": false,
     "tableResultSettingsMap": {},
     "title": ""
    }
   },
   "outputs": [],
   "source": [
    "%pip install requests"
   ]
  }
 ],
 "metadata": {
  "application/vnd.databricks.v1+notebook": {
   "computePreferences": null,
   "dashboards": [],
   "environmentMetadata": {
    "base_environment": "",
    "environment_version": "2"
   },
   "language": "python",
   "notebookMetadata": {
    "pythonIndentUnit": 4
   },
   "notebookName": "(Clone) Day9 Notebook1",
   "widgets": {}
  },
  "language_info": {
   "name": "python"
  }
 },
 "nbformat": 4,
 "nbformat_minor": 0
}
